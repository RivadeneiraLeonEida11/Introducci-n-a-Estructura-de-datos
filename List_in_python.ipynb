{
  "nbformat": 4,
  "nbformat_minor": 0,
  "metadata": {
    "colab": {
      "provenance": [],
      "authorship_tag": "ABX9TyOtE41mEn5xN+KP8lM608lv",
      "include_colab_link": true
    },
    "kernelspec": {
      "name": "python3",
      "display_name": "Python 3"
    },
    "language_info": {
      "name": "python"
    }
  },
  "cells": [
    {
      "cell_type": "markdown",
      "metadata": {
        "id": "view-in-github",
        "colab_type": "text"
      },
      "source": [
        "<a href=\"https://colab.research.google.com/github/RivadeneiraLeonEida11/Introducci-n-a-Estructura-de-datos/blob/main/List_in_python.ipynb\" target=\"_parent\"><img src=\"https://colab.research.google.com/assets/colab-badge.svg\" alt=\"Open In Colab\"/></a>"
      ]
    },
    {
      "cell_type": "code",
      "execution_count": 11,
      "metadata": {
        "id": "oDsIVzsUoTWu"
      },
      "outputs": [],
      "source": [
        "friends = ['Eida', 'Liz', 'Karla', 'Daniela', 'Edu']"
      ]
    },
    {
      "cell_type": "code",
      "source": [
        "print(friends)"
      ],
      "metadata": {
        "colab": {
          "base_uri": "https://localhost:8080/"
        },
        "id": "Z5eZr-Evolrz",
        "outputId": "840b82bf-78b0-4dea-e01f-3da0de4eea29"
      },
      "execution_count": 15,
      "outputs": [
        {
          "output_type": "stream",
          "name": "stdout",
          "text": [
            "['Eida', 'Liz', 'Karla', 'Daniela', 'Edu']\n"
          ]
        }
      ]
    },
    {
      "cell_type": "code",
      "source": [
        "mensaje = f\"Este es mi mejor amigo {friends[0].title()}.\"\n",
        "print(mensaje)\n",
        "mensaje = f\"Este es mi mejor amigo {friends[1].title()}.\"\n",
        "print(mensaje)\n",
        "mensaje = f\"Esta es mi mejor amiga {friends[2].title()}.\"\n",
        "print(mensaje)\n",
        "mensaje = f\"Esta es mi mejor amiga {friends[3].title()}.\"\n",
        "print(mensaje)\n",
        "mensaje = f\"Este es mi mejor amigo {friends[4].title()}.\"\n",
        "print(mensaje)"
      ],
      "metadata": {
        "colab": {
          "base_uri": "https://localhost:8080/"
        },
        "id": "khXDXWyKosoa",
        "outputId": "44bbadab-529f-4c31-9c32-4b2899bdf344"
      },
      "execution_count": 6,
      "outputs": [
        {
          "output_type": "stream",
          "name": "stdout",
          "text": [
            "Este es mi mejor amigo Eida.\n",
            "Este es mi mejor amigo Liz.\n",
            "Esta es mi mejor amiga Karla.\n",
            "Esta es mi mejor amiga Daniela.\n",
            "Este es mi mejor amigo Edu.\n"
          ]
        }
      ]
    },
    {
      "cell_type": "code",
      "source": [
        "vehicle = ['carro', 'bus', 'taxi', 'moto', 'bicicleta']\n",
        "mensaje1 = f\"Me gusta andar en {vehicle[4].title()}.\"\n",
        "print(mensaje1)"
      ],
      "metadata": {
        "colab": {
          "base_uri": "https://localhost:8080/"
        },
        "id": "cH36PROqpEBr",
        "outputId": "fedbee72-6d9b-4bec-cf0a-f2d767ca20e8"
      },
      "execution_count": 8,
      "outputs": [
        {
          "output_type": "stream",
          "name": "stdout",
          "text": [
            "Me gusta andar en  Bicicleta.\n"
          ]
        }
      ]
    },
    {
      "cell_type": "code",
      "source": [
        "mensaje2 = f\"A mi amigo {friends[4]}, le gusta ir en {vehicle[4]} a la Universidad. \"\n",
        "print(mensaje2)"
      ],
      "metadata": {
        "colab": {
          "base_uri": "https://localhost:8080/"
        },
        "id": "d9QESXejpe4S",
        "outputId": "7357874b-21df-4fc1-9e1c-bc5e0e1927d0"
      },
      "execution_count": 10,
      "outputs": [
        {
          "output_type": "stream",
          "name": "stdout",
          "text": [
            "A mi amigo Edu, le gusta ir en bicicleta a la Universidad. \n"
          ]
        }
      ]
    }
  ]
}